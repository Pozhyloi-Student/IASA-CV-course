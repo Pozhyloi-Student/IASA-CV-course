{
 "cells": [
  {
   "cell_type": "code",
   "execution_count": 1,
   "id": "28de74b5",
   "metadata": {},
   "outputs": [
    {
     "name": "stderr",
     "output_type": "stream",
     "text": [
      "2023-01-05 16:40:25.701302: W tensorflow/stream_executor/platform/default/dso_loader.cc:64] Could not load dynamic library 'libcudart.so.11.0'; dlerror: libcudart.so.11.0: cannot open shared object file: No such file or directory\n",
      "2023-01-05 16:40:25.701325: I tensorflow/stream_executor/cuda/cudart_stub.cc:29] Ignore above cudart dlerror if you do not have a GPU set up on your machine.\n"
     ]
    }
   ],
   "source": [
    "import tensorflow as tf\n",
    "from tensorflow import keras\n",
    "from tensorflow.keras import layers\n",
    "import numpy as np\n",
    "import time\n",
    "import cv2 as cv\n",
    "\n",
    "import matplotlib.pyplot as plt\n",
    "from keras.preprocessing.image import ImageDataGenerator"
   ]
  },
  {
   "cell_type": "code",
   "execution_count": 2,
   "id": "5c933a3a",
   "metadata": {},
   "outputs": [],
   "source": [
    "train_datagen = ImageDataGenerator(rescale=1./255)                                  \n",
    "test_datagen = ImageDataGenerator(rescale=1./255)"
   ]
  },
  {
   "cell_type": "code",
   "execution_count": 3,
   "id": "9941d7f3",
   "metadata": {},
   "outputs": [
    {
     "name": "stdout",
     "output_type": "stream",
     "text": [
      "Found 80 images belonging to 8 classes.\n",
      "Found 40 images belonging to 8 classes.\n"
     ]
    }
   ],
   "source": [
    "train_generator = train_datagen.flow_from_directory('/home/hermit/Документы/IASA-CV-course/lab_5/14-celebrity-faces-dataset/data/train/',\n",
    "                                         batch_size=32)\n",
    "test_generator = test_datagen.flow_from_directory('/home/hermit/Документы/IASA-CV-course/lab_5/14-celebrity-faces-dataset/data/val/',\n",
    "                                        batch_size=32)"
   ]
  },
  {
   "cell_type": "code",
   "execution_count": 4,
   "id": "75ff437b",
   "metadata": {},
   "outputs": [],
   "source": [
    "class_names = {v:k for k,v in train_generator.class_indices.items()}\n",
    "images,labels = next(iter(train_generator))"
   ]
  },
  {
   "cell_type": "code",
   "execution_count": 5,
   "id": "8ffb3468",
   "metadata": {},
   "outputs": [],
   "source": [
    "X_train, y_train = next(train_generator)\n",
    "X_test, y_test = next(test_generator)"
   ]
  },
  {
   "cell_type": "code",
   "execution_count": 6,
   "id": "21122a9d",
   "metadata": {},
   "outputs": [
    {
     "data": {
      "text/plain": [
       "((32, 256, 256, 3), (32, 8))"
      ]
     },
     "execution_count": 6,
     "metadata": {},
     "output_type": "execute_result"
    }
   ],
   "source": [
    "X_train.shape, y_train.shape"
   ]
  },
  {
   "cell_type": "code",
   "execution_count": 13,
   "id": "654281dd",
   "metadata": {},
   "outputs": [],
   "source": [
    "def call_code(maxNum_layers, activation, dropout):    \n",
    "    model = keras.models.Sequential()\n",
    "    model.add(keras.layers.Input(shape = (256, 256, 3)))\n",
    "    if dropout:\n",
    "        if maxNum_layers > 2:\n",
    "            for i in range(maxNum_layers-2):\n",
    "                model.add(keras.layers.Dense(256, activation=activation))\n",
    "               # activation = input('Activation:')\n",
    "        elif maxNum_layers == 2:\n",
    "            model.add(keras.layers.Dense(256, activation=activation))\n",
    "        model.add(keras.layers.Dropout(rate=dropout))\n",
    "    else:\n",
    "        if maxNum_layers > 2:\n",
    "            for i in range(maxNum_layers-1):\n",
    "                model.add(keras.layers.Dense(256, activation=activation))\n",
    "              #  activation = input('Activation:')\n",
    "        elif maxNum_layers == 2:\n",
    "            model.add(keras.layers.Dense(256, activation=activation))\n",
    "    model.add(keras.layers.Flatten())\n",
    "    model.add(keras.layers.Dense(8, activation='softmax', name='layer6'))\n",
    "    model.compile(\n",
    "        optimizer=keras.optimizers.Adam(learning_rate=0.01),\n",
    "        loss='categorical_crossentropy',\n",
    "        metrics=['accuracy'])\n",
    "    return model"
   ]
  },
  {
   "cell_type": "code",
   "execution_count": 14,
   "id": "9d96c451",
   "metadata": {},
   "outputs": [
    {
     "name": "stderr",
     "output_type": "stream",
     "text": [
      "2023-01-05 16:53:57.156069: W tensorflow/core/framework/cpu_allocator_impl.cc:82] Allocation of 536870912 exceeds 10% of free system memory.\n",
      "2023-01-05 16:53:57.300251: W tensorflow/core/framework/cpu_allocator_impl.cc:82] Allocation of 536870912 exceeds 10% of free system memory.\n"
     ]
    },
    {
     "name": "stdout",
     "output_type": "stream",
     "text": [
      "Model: \"sequential_2\"\n",
      "_________________________________________________________________\n",
      " Layer (type)                Output Shape              Param #   \n",
      "=================================================================\n",
      " dense_8 (Dense)             (None, 256, 256, 256)     1024      \n",
      "                                                                 \n",
      " dense_9 (Dense)             (None, 256, 256, 256)     65792     \n",
      "                                                                 \n",
      " dense_10 (Dense)            (None, 256, 256, 256)     65792     \n",
      "                                                                 \n",
      " dense_11 (Dense)            (None, 256, 256, 256)     65792     \n",
      "                                                                 \n",
      " dropout_2 (Dropout)         (None, 256, 256, 256)     0         \n",
      "                                                                 \n",
      " flatten (Flatten)           (None, 16777216)          0         \n",
      "                                                                 \n",
      " layer6 (Dense)              (None, 8)                 134217736 \n",
      "                                                                 \n",
      "=================================================================\n",
      "Total params: 134,416,136\n",
      "Trainable params: 134,416,136\n",
      "Non-trainable params: 0\n",
      "_________________________________________________________________\n"
     ]
    },
    {
     "name": "stderr",
     "output_type": "stream",
     "text": [
      "2023-01-05 16:53:57.396874: W tensorflow/core/framework/cpu_allocator_impl.cc:82] Allocation of 536870912 exceeds 10% of free system memory.\n"
     ]
    }
   ],
   "source": [
    "model = call_code(6, 'relu', 0.2)\n",
    "model.summary()"
   ]
  },
  {
   "cell_type": "code",
   "execution_count": null,
   "id": "1e32d4d9",
   "metadata": {},
   "outputs": [
    {
     "name": "stdout",
     "output_type": "stream",
     "text": [
      "Epoch 1/15\n"
     ]
    },
    {
     "name": "stderr",
     "output_type": "stream",
     "text": [
      "2023-01-05 16:54:00.550685: W tensorflow/core/framework/cpu_allocator_impl.cc:82] Allocation of 536870912 exceeds 10% of free system memory.\n",
      "2023-01-05 16:54:00.624302: W tensorflow/core/framework/cpu_allocator_impl.cc:82] Allocation of 536870912 exceeds 10% of free system memory.\n"
     ]
    }
   ],
   "source": [
    "start = time.time()\n",
    "model.fit(X_train, y_train, batch_size=32, epochs=15)\n",
    "score = model.evaluate(X_test, y_test, verbose=0)\n",
    "print(\"Test loss:\", score[0])\n",
    "print(\"Test accuracy:\", score[1])\n",
    "stop = time.time()\n",
    "print( f\"Time : {stop - start}s\")"
   ]
  },
  {
   "cell_type": "code",
   "execution_count": null,
   "id": "723fc6e7",
   "metadata": {},
   "outputs": [],
   "source": [
    "len(model.layers)"
   ]
  },
  {
   "cell_type": "code",
   "execution_count": null,
   "id": "de8c0714",
   "metadata": {},
   "outputs": [],
   "source": [
    "print(dvsfv"
   ]
  },
  {
   "cell_type": "code",
   "execution_count": null,
   "id": "0a75694a",
   "metadata": {},
   "outputs": [],
   "source": [
    "model = tf.keras.Sequential([\n",
    "        tf.keras.layers.Conv2D(16, 3, input_shape=(256,256,3), strides=2),\n",
    "        tf.keras.layers.BatchNormalization(),\n",
    "        tf.keras.layers.ReLU(),\n",
    "        tf.keras.layers.MaxPool2D(),\n",
    "        tf.keras.layers.Dropout(0.5),\n",
    "        tf.keras.layers.GlobalAveragePooling2D(),\n",
    "        tf.keras.layers.Dense(8, activation='softmax')\n",
    "])\n",
    "model.compile(loss='categorical_crossentropy', metrics=['acc'])\n",
    "model.summary()"
   ]
  },
  {
   "cell_type": "code",
   "execution_count": null,
   "id": "76175662",
   "metadata": {},
   "outputs": [],
   "source": [
    "start = time.time()\n",
    "model.compile(loss=\"categorical_crossentropy\", optimizer=\"adam\", metrics=[\"accuracy\"])\n",
    "model.fit(X_train, y_train, batch_size=32, epochs=15)\n",
    "score = model.evaluate(X_test, y_test, verbose=0)\n",
    "print(\"Test loss:\", score[0])\n",
    "print(\"Test accuracy:\", score[1])\n",
    "stop = time.time()\n",
    "print( f\"Time : {stop - start}s\")"
   ]
  },
  {
   "cell_type": "code",
   "execution_count": null,
   "id": "a5330479",
   "metadata": {},
   "outputs": [],
   "source": [
    "model = keras.models.Sequential()\n",
    "model.add(keras.layers.Input(shape = (256, 256, 3)))\n",
    "model.add(keras.layers.Flatten())\n",
    "model.add(keras.layers.Dense(8))\n",
    "model.add(keras.layers.Activation('softmax'))\n",
    "\n",
    "model.compile(loss='categorical_crossentropy',\n",
    "              optimizer=keras.optimizers.Adam(0.01),\n",
    "              metrics=[keras.metrics.CategoricalAccuracy(),\n",
    "                       keras.metrics.AUC(name=\"AUC\"),\n",
    "                       keras.metrics.Precision(name=\"Precision\"),\n",
    "                       keras.metrics.Recall(name=\"Recall\")])\n",
    "\n",
    "model.summary()"
   ]
  },
  {
   "cell_type": "code",
   "execution_count": null,
   "id": "0f23b95a",
   "metadata": {},
   "outputs": [],
   "source": [
    "# Customize callbacks every new task   \n",
    "my_callbacks = [\n",
    "    tf.keras.callbacks.EarlyStopping(patience=2,\n",
    "                                     verbose=1),\n",
    "    tf.keras.callbacks.ModelCheckpoint(\n",
    "        filepath='./models/model_single_softmax.h5'),\n",
    "    tf.keras.callbacks.TensorBoard(log_dir='./logs/single_softmax')\n",
    "]"
   ]
  },
  {
   "cell_type": "code",
   "execution_count": null,
   "id": "4363db14",
   "metadata": {
    "scrolled": false
   },
   "outputs": [],
   "source": [
    "history = model.fit(train_generator,\n",
    "                    validation_data=test_generator,\n",
    "                    callbacks=my_callbacks, \n",
    "                    epochs=15,\n",
    "                    verbose=1)"
   ]
  },
  {
   "cell_type": "code",
   "execution_count": null,
   "id": "9469e632",
   "metadata": {},
   "outputs": [],
   "source": [
    "start = time.time()\n",
    "#batch_size = 128\n",
    "epochs = 15\n",
    "start = time.time()\n",
    "#model.compile(loss=\"categorical_crossentropy\", optimizer=\"adam\", metrics=[\"accuracy\"])\n",
    "model.fit(X_train, y_train, batch_size=80, epochs=epochs)\n",
    "score = model.evaluate(X_test, y_test, verbose=0)\n",
    "print(\"Test loss:\", score[0])\n",
    "print(\"Test accuracy:\", score[1])\n",
    "stop = time.time()\n",
    "print( f\"Time : {stop - start}s\")"
   ]
  },
  {
   "cell_type": "code",
   "execution_count": null,
   "id": "2ee785c4",
   "metadata": {},
   "outputs": [],
   "source": [
    "inputs = tf.keras.Input(shape = (256, 256, 3))\n",
    "x = inputs\n",
    "for i in range(4):\n",
    "    for _ in range(2):\n",
    "        x = tf.keras.layers.Conv2D(32, kernel_size=(3,3),padding=\"same\")(x)\n",
    "        x = tf.keras.layers.BatchNormalization()(x)\n",
    "        x = tf.keras.layers.ReLU()(x)\n",
    "    x = tf.keras.layers.MaxPool2D()(x)\n",
    "    x = tf.keras.layers.Dropout(0.2)(x)\n",
    "x = tf.keras.layers.Flatten()(x)\n",
    "x = tf.keras.layers.Dense(128)(x)\n",
    "x = tf.keras.layers.Dropout(0.5)(x)\n",
    "outputs = tf.keras.layers.Dense(8,activation=\"softmax\")(x)\n",
    "model = tf.keras.Model(inputs,outputs)\n",
    "model.compile(loss=tf.keras.losses.CategoricalCrossentropy(),\n",
    "              optimizer=tf.keras.optimizers.Adam(),\n",
    "              metrics=[keras.metrics.CategoricalAccuracy(),\n",
    "                       keras.metrics.AUC(),\n",
    "                       keras.metrics.Precision(),\n",
    "                       keras.metrics.Recall()])"
   ]
  },
  {
   "cell_type": "code",
   "execution_count": null,
   "id": "9fb877a5",
   "metadata": {},
   "outputs": [],
   "source": [
    "model.summary()"
   ]
  },
  {
   "cell_type": "code",
   "execution_count": null,
   "id": "8184fecd",
   "metadata": {},
   "outputs": [],
   "source": [
    "start = time.time()\n",
    "batch_size = 32\n",
    "epochs = 15\n",
    "model.compile(loss=\"categorical_crossentropy\", metrics=[\"accuracy\"])\n",
    "model.fit(X_train, y_train, batch_size=batch_size, epochs=epochs)\n",
    "score = model.evaluate(X_test, y_test, verbose=0)\n",
    "print(\"Test loss:\", score[0])\n",
    "print(\"Test accuracy:\", score[1])\n",
    "stop = time.time()\n",
    "print( f\"Time : {stop - start}s\")"
   ]
  },
  {
   "cell_type": "code",
   "execution_count": null,
   "id": "7ec7f750",
   "metadata": {},
   "outputs": [],
   "source": []
  }
 ],
 "metadata": {
  "kernelspec": {
   "display_name": "Python 3 (ipykernel)",
   "language": "python",
   "name": "python3"
  },
  "language_info": {
   "codemirror_mode": {
    "name": "ipython",
    "version": 3
   },
   "file_extension": ".py",
   "mimetype": "text/x-python",
   "name": "python",
   "nbconvert_exporter": "python",
   "pygments_lexer": "ipython3",
   "version": "3.10.4"
  }
 },
 "nbformat": 4,
 "nbformat_minor": 5
}
